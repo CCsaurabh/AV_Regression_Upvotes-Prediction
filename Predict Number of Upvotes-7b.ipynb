{
 "cells": [
  {
   "cell_type": "code",
   "execution_count": 1,
   "metadata": {},
   "outputs": [],
   "source": [
    "import numpy as np \n",
    "import pandas as pd\n",
    "import scipy\n",
    "import matplotlib.pyplot as plt\n",
    "from sklearn.metrics import r2_score\n",
    "from sklearn.preprocessing import LabelEncoder\n",
    "from sklearn.preprocessing import StandardScaler\n",
    "from sklearn import linear_model\n",
    "from sklearn.preprocessing import PolynomialFeatures\n",
    "from sklearn.ensemble import RandomForestClassifier\n",
    "from sklearn.ensemble import VotingClassifier\n",
    "from sklearn.linear_model import LogisticRegression\n",
    "from sklearn.svm import SVC\n",
    "from sklearn.model_selection import train_test_split\n",
    "import sklearn.model_selection as ms\n",
    "import seaborn as sns\n",
    "import matplotlib\n",
    "from sklearn.preprocessing import Binarizer\n",
    "import sklearn\n",
    "import math\n",
    "from sklearn.preprocessing import OneHotEncoder\n",
    "import pandas as pd\n",
    "import numpy as np\n",
    "import matplotlib.pyplot as plt\n",
    "from scipy.signal import savgol_filter\n",
    "from sklearn.decomposition import PCA\n",
    "from sklearn.preprocessing import StandardScaler\n",
    "from sklearn import linear_model\n",
    "from sklearn.model_selection import cross_val_predict\n",
    "from sklearn.metrics import mean_squared_error, r2_score"
   ]
  },
  {
   "cell_type": "code",
   "execution_count": 2,
   "metadata": {},
   "outputs": [],
   "source": [
    "df1=pd.read_csv(r\"C:\\Users\\SaurabhM\\Desktop\\data\\train_NIR5Yl1.csv\")\n",
    "df2=pd.read_csv(r\"C:\\Users\\SaurabhM\\Desktop\\data\\test_8i3B3FC.csv\")"
   ]
  },
  {
   "cell_type": "code",
   "execution_count": 3,
   "metadata": {},
   "outputs": [],
   "source": [
    "labelencoder_X = LabelEncoder()\n",
    "df1=df1[df1[\"Views\"]>300000]\n",
    "\n",
    "df1['Tag'] = labelencoder_X.fit_transform(df1['Tag'])\n",
    "\n",
    "bn = Binarizer(threshold=7)\n",
    "pd_watched = bn.transform([df1['Answers']])[0]\n",
    "df1['pd_watched'] = pd_watched\n",
    "\n",
    "\n",
    "df1 = df1.drop([\"ID\",\"Username\",\"Answers\"],axis = 1)"
   ]
  },
  {
   "cell_type": "code",
   "execution_count": 4,
   "metadata": {},
   "outputs": [],
   "source": [
    "df1[\"Views\"]=np.log1p(df1[\"Views\"])\n",
    "\n",
    "df1[\"Reputation\"]=np.log1p(df1[\"Reputation\"])\n",
    "\n",
    "df1[\"pd_watched\"]=np.log1p(df1[\"pd_watched\"])\n",
    "\n",
    "df1[\"Upvotes\"]=np.log1p(df1[\"Upvotes\"])\n",
    "\n"
   ]
  },
  {
   "cell_type": "code",
   "execution_count": 5,
   "metadata": {},
   "outputs": [
    {
     "data": {
      "image/png": "[encoded data removed]",
      "text/plain": [
       "<Figure size 432x288 with 2 Axes>"
      ]
     },
     "metadata": {},
     "output_type": "display_data"
    }
   ],
   "source": [
    "k = 5 #number of variables for heatmap\n",
    "corrmat = df1.corr()\n",
    "cols = corrmat.nlargest(k, 'Upvotes')['Upvotes'].index\n",
    "cm = np.corrcoef(df1[cols].values.T)\n",
    "sns.set(font_scale=1.25)\n",
    "hm = sns.heatmap(cm, cbar=True, annot=True, square=True, fmt='.2f', annot_kws={'size': 10}, yticklabels=cols.values, xticklabels=cols.values)\n",
    "plt.show()"
   ]
  },
  {
   "cell_type": "code",
   "execution_count": 6,
   "metadata": {},
   "outputs": [],
   "source": [
    "target=df1[\"Upvotes\"]\n",
    "df1=df1.drop([\"Upvotes\"],axis=1)"
   ]
  },
  {
   "cell_type": "code",
   "execution_count": 7,
   "metadata": {},
   "outputs": [],
   "source": [
    "X_train,X_test,y_train,y_test=ms.train_test_split(df1,target,test_size=0.40,random_state=42)"
   ]
  },
  {
   "cell_type": "code",
   "execution_count": 8,
   "metadata": {},
   "outputs": [],
   "source": [
    "\n",
    "#Standard Scaling to bring the data to mean zero \n",
    "sc_X = StandardScaler()\n",
    "X_train = sc_X.fit_transform(X_train)\n",
    "X_test = sc_X.transform(X_test)\n"
   ]
  },
  {
   "cell_type": "code",
   "execution_count": 25,
   "metadata": {},
   "outputs": [
    {
     "name": "stdout",
     "output_type": "stream",
     "text": [
      "0.9099456940624691\n",
      "12966.74706599329\n"
     ]
    }
   ],
   "source": [
    "#Ridge Regression\n",
    "\n",
    "from sklearn.linear_model import Ridge\n",
    "\n",
    "model = Ridge()\n",
    "model.fit(X_train, y_train)\n",
    "pred = model.predict(X_test)\n",
    "print(r2_score(y_test, pred))\n",
    "mse = sklearn.metrics.mean_squared_error(np.expm1(y_test), np.expm1(pred))\n",
    "rmse = math.sqrt(mse)\n",
    "print(rmse)"
   ]
  },
  {
   "cell_type": "code",
   "execution_count": 10,
   "metadata": {},
   "outputs": [
    {
     "data": {
      "text/html": [
       "<div>\n",
       "<style scoped>\n",
       "    .dataframe tbody tr th:only-of-type {\n",
       "        vertical-align: middle;\n",
       "    }\n",
       "\n",
       "    .dataframe tbody tr th {\n",
       "        vertical-align: top;\n",
       "    }\n",
       "\n",
       "    .dataframe thead th {\n",
       "        text-align: right;\n",
       "    }\n",
       "</style>\n",
       "<table border=\"1\" class=\"dataframe\">\n",
       "  <thead>\n",
       "    <tr style=\"text-align: right;\">\n",
       "      <th></th>\n",
       "      <th>ID</th>\n",
       "      <th>Tag</th>\n",
       "      <th>Reputation</th>\n",
       "      <th>Answers</th>\n",
       "      <th>Username</th>\n",
       "      <th>Views</th>\n",
       "    </tr>\n",
       "  </thead>\n",
       "  <tbody>\n",
       "    <tr>\n",
       "      <th>0</th>\n",
       "      <td>366953</td>\n",
       "      <td>a</td>\n",
       "      <td>5645</td>\n",
       "      <td>3</td>\n",
       "      <td>50652</td>\n",
       "      <td>33200</td>\n",
       "    </tr>\n",
       "    <tr>\n",
       "      <th>1</th>\n",
       "      <td>71864</td>\n",
       "      <td>c</td>\n",
       "      <td>24511</td>\n",
       "      <td>6</td>\n",
       "      <td>37685</td>\n",
       "      <td>2730</td>\n",
       "    </tr>\n",
       "    <tr>\n",
       "      <th>2</th>\n",
       "      <td>141692</td>\n",
       "      <td>i</td>\n",
       "      <td>927</td>\n",
       "      <td>1</td>\n",
       "      <td>135293</td>\n",
       "      <td>21167</td>\n",
       "    </tr>\n",
       "    <tr>\n",
       "      <th>3</th>\n",
       "      <td>316833</td>\n",
       "      <td>i</td>\n",
       "      <td>21</td>\n",
       "      <td>6</td>\n",
       "      <td>166998</td>\n",
       "      <td>18528</td>\n",
       "    </tr>\n",
       "    <tr>\n",
       "      <th>4</th>\n",
       "      <td>440445</td>\n",
       "      <td>i</td>\n",
       "      <td>4475</td>\n",
       "      <td>10</td>\n",
       "      <td>53504</td>\n",
       "      <td>57240</td>\n",
       "    </tr>\n",
       "  </tbody>\n",
       "</table>\n",
       "</div>"
      ],
      "text/plain": [
       "       ID Tag  Reputation  Answers  Username  Views\n",
       "0  366953   a        5645        3     50652  33200\n",
       "1   71864   c       24511        6     37685   2730\n",
       "2  141692   i         927        1    135293  21167\n",
       "3  316833   i          21        6    166998  18528\n",
       "4  440445   i        4475       10     53504  57240"
      ]
     },
     "execution_count": 10,
     "metadata": {},
     "output_type": "execute_result"
    }
   ],
   "source": [
    "df2.head()"
   ]
  },
  {
   "cell_type": "code",
   "execution_count": 12,
   "metadata": {},
   "outputs": [],
   "source": [
    "#Prediction\n",
    "df2['Tag'] = labelencoder_X.fit_transform(df2['Tag'])\n",
    "bn = Binarizer(threshold=7)\n",
    "pd_watched = bn.transform([df2['Answers']])[0]\n",
    "df2['pd_watched'] = pd_watched\n",
    "\n",
    "id=df2[\"ID\"]\n",
    "\n",
    "df2 = df2.drop([\"ID\",\"Username\",\"Answers\"],axis = 1)"
   ]
  },
  {
   "cell_type": "code",
   "execution_count": 13,
   "metadata": {},
   "outputs": [
    {
     "data": {
      "text/plain": [
       "(141448, 4)"
      ]
     },
     "execution_count": 13,
     "metadata": {},
     "output_type": "execute_result"
    }
   ],
   "source": [
    "df2[\"Views\"]=np.log1p(df2[\"Views\"])\n",
    "\n",
    "df2[\"Reputation\"]=np.log1p(df2[\"Reputation\"])\n",
    "\n",
    "df2[\"pd_watched\"]=np.log1p(df2[\"pd_watched\"])\n",
    "\n",
    "df2.shape\n"
   ]
  },
  {
   "cell_type": "code",
   "execution_count": 14,
   "metadata": {},
   "outputs": [],
   "source": [
    "df2 = sc_X.transform(df2)\n",
    "predicted=model.predict(df2)"
   ]
  },
  {
   "cell_type": "code",
   "execution_count": 15,
   "metadata": {},
   "outputs": [
    {
     "data": {
      "text/plain": [
       "(141448,)"
      ]
     },
     "execution_count": 15,
     "metadata": {},
     "output_type": "execute_result"
    }
   ],
   "source": [
    "predicted.shape"
   ]
  },
  {
   "cell_type": "code",
   "execution_count": 16,
   "metadata": {},
   "outputs": [
    {
     "data": {
      "text/plain": [
       "array([5.1546142 , 3.86176244, 3.24429551, ..., 3.64499493, 1.16581443,\n",
       "       2.41799539])"
      ]
     },
     "execution_count": 16,
     "metadata": {},
     "output_type": "execute_result"
    }
   ],
   "source": [
    "predicted"
   ]
  },
  {
   "cell_type": "code",
   "execution_count": 17,
   "metadata": {},
   "outputs": [],
   "source": [
    "back=np.expm1(predicted)\n",
    "submission = pd.DataFrame({'ID': id,\n",
    "                           'Upvotes':back\n",
    "                           })\n",
    "\n",
    "submission.to_csv(r\"C:\\Users\\SaurabhM\\Desktop\\data\\final_02.csv\",index=False)"
   ]
  },
  {
   "cell_type": "code",
   "execution_count": 26,
   "metadata": {},
   "outputs": [
    {
     "name": "stdout",
     "output_type": "stream",
     "text": [
      "0.5842402628932277\n",
      "12966.74706599329\n"
     ]
    }
   ],
   "source": [
    "\n",
    "poly_reg = PolynomialFeatures(degree = 4,interaction_only=False, include_bias=True)\n",
    "X_poly = poly_reg.fit_transform(X_train)\n",
    "poly_reg.fit(X_train, y_train)\n",
    "lin_reg_1 = linear_model.LassoLars(alpha=0.021,max_iter=150)\n",
    "lin_reg_1.fit(X_poly, y_train)\n",
    "\n",
    "# predicitng \n",
    "pred_val = lin_reg_1.predict(poly_reg.fit_transform(X_test))\n",
    "\n",
    "print(r2_score(y_test, pred_val))\n",
    "\n",
    "mse = sklearn.metrics.mean_squared_error(np.expm1(y_test), np.expm1(pred))\n",
    "rmse = math.sqrt(mse)\n",
    "print(rmse)"
   ]
  },
  {
   "cell_type": "code",
   "execution_count": 21,
   "metadata": {},
   "outputs": [],
   "source": [
    "predicted_polynomial=lin_reg_1.predict(poly_reg.fit_transform(df2))"
   ]
  },
  {
   "cell_type": "code",
   "execution_count": 22,
   "metadata": {},
   "outputs": [
    {
     "data": {
      "text/plain": [
       "array([5.1546142 , 3.86176244, 3.24429551, ..., 3.64499493, 1.16581443,\n",
       "       2.41799539])"
      ]
     },
     "execution_count": 22,
     "metadata": {},
     "output_type": "execute_result"
    }
   ],
   "source": [
    "predicted"
   ]
  },
  {
   "cell_type": "code",
   "execution_count": 23,
   "metadata": {},
   "outputs": [],
   "source": [
    "back=abs(np.expm1(predicted))\n",
    "submission = pd.DataFrame({'ID': id,\n",
    "                           'Upvotes':back\n",
    "                           })\n",
    "\n",
    "submission.to_csv(r\"C:\\Users\\SaurabhM\\Desktop\\data\\final_polynomial_reg_3.csv\",index=False)"
   ]
  },
  {
   "cell_type": "code",
   "execution_count": 24,
   "metadata": {},
   "outputs": [
    {
     "data": {
      "text/plain": [
       "array([172.2289613 ,  46.54907977,  24.64363797, ...,  37.28257874,\n",
       "         2.20853495,  10.22333834])"
      ]
     },
     "execution_count": 24,
     "metadata": {},
     "output_type": "execute_result"
    }
   ],
   "source": [
    "back"
   ]
  },
  {
   "cell_type": "code",
   "execution_count": null,
   "metadata": {},
   "outputs": [],
   "source": []
  }
 ],
 "metadata": {
  "kernelspec": {
   "display_name": "Python 3",
   "language": "python",
   "name": "python3"
  },
  "language_info": {
   "codemirror_mode": {
    "name": "ipython",
    "version": 3
   },
   "file_extension": ".py",
   "mimetype": "text/x-python",
   "name": "python",
   "nbconvert_exporter": "python",
   "pygments_lexer": "ipython3",
   "version": "3.7.3"
  }
 },
 "nbformat": 4,
 "nbformat_minor": 2
}
